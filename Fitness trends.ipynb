{
 "cells": [
  {
   "cell_type": "code",
   "execution_count": 1,
   "metadata": {},
   "outputs": [],
   "source": [
    "import pandas as pd\n",
    "import numpy as np\n",
    "import matplotlib.pyplot as plt\n",
    "import seaborn as sns\n",
    "from sklearn.utils import resample\n",
    "from sklearn.model_selection import train_test_split, cross_val_score\n",
    "from sklearn.preprocessing import StandardScaler\n",
    "from sklearn.ensemble import RandomForestClassifier\n",
    "from sklearn.neighbors import KNeighborsClassifier\n",
    "from sklearn.linear_model import LinearRegression\n",
    "from sklearn.metrics import classification_report\n",
    "from sklearn.metrics import accuracy_score\n",
    "from sklearn.preprocessing import PolynomialFeatures\n",
    "from sklearn import linear_model\n",
    "from sklearn.feature_selection import RFE, SelectKBest, f_regression\n",
    "\n",
    "%matplotlib inline"
   ]
  },
  {
   "cell_type": "code",
   "execution_count": 2,
   "metadata": {},
   "outputs": [],
   "source": [
    "#loads dataset into a pandas dataframe\n",
    "fit_df = pd.read_csv('25.csv')"
   ]
  },
  {
   "cell_type": "code",
   "execution_count": 3,
   "metadata": {},
   "outputs": [
    {
     "data": {
      "text/html": [
       "<div>\n",
       "<style scoped>\n",
       "    .dataframe tbody tr th:only-of-type {\n",
       "        vertical-align: middle;\n",
       "    }\n",
       "\n",
       "    .dataframe tbody tr th {\n",
       "        vertical-align: top;\n",
       "    }\n",
       "\n",
       "    .dataframe thead th {\n",
       "        text-align: right;\n",
       "    }\n",
       "</style>\n",
       "<table border=\"1\" class=\"dataframe\">\n",
       "  <thead>\n",
       "    <tr style=\"text-align: right;\">\n",
       "      <th></th>\n",
       "      <th>date</th>\n",
       "      <th>step_count</th>\n",
       "      <th>mood</th>\n",
       "      <th>calories_burned</th>\n",
       "      <th>hours_of_sleep</th>\n",
       "      <th>bool_of_active</th>\n",
       "      <th>weight_kg</th>\n",
       "    </tr>\n",
       "  </thead>\n",
       "  <tbody>\n",
       "    <tr>\n",
       "      <th>0</th>\n",
       "      <td>2017-10-06</td>\n",
       "      <td>5464</td>\n",
       "      <td>200</td>\n",
       "      <td>181</td>\n",
       "      <td>5</td>\n",
       "      <td>0</td>\n",
       "      <td>66</td>\n",
       "    </tr>\n",
       "    <tr>\n",
       "      <th>1</th>\n",
       "      <td>2017-10-07</td>\n",
       "      <td>6041</td>\n",
       "      <td>100</td>\n",
       "      <td>197</td>\n",
       "      <td>8</td>\n",
       "      <td>0</td>\n",
       "      <td>66</td>\n",
       "    </tr>\n",
       "    <tr>\n",
       "      <th>2</th>\n",
       "      <td>2017-10-08</td>\n",
       "      <td>25</td>\n",
       "      <td>100</td>\n",
       "      <td>0</td>\n",
       "      <td>5</td>\n",
       "      <td>0</td>\n",
       "      <td>66</td>\n",
       "    </tr>\n",
       "    <tr>\n",
       "      <th>3</th>\n",
       "      <td>2017-10-09</td>\n",
       "      <td>5461</td>\n",
       "      <td>100</td>\n",
       "      <td>174</td>\n",
       "      <td>4</td>\n",
       "      <td>0</td>\n",
       "      <td>66</td>\n",
       "    </tr>\n",
       "    <tr>\n",
       "      <th>4</th>\n",
       "      <td>2017-10-10</td>\n",
       "      <td>6915</td>\n",
       "      <td>200</td>\n",
       "      <td>223</td>\n",
       "      <td>5</td>\n",
       "      <td>500</td>\n",
       "      <td>66</td>\n",
       "    </tr>\n",
       "  </tbody>\n",
       "</table>\n",
       "</div>"
      ],
      "text/plain": [
       "         date  step_count  mood  calories_burned  hours_of_sleep  \\\n",
       "0  2017-10-06        5464   200              181               5   \n",
       "1  2017-10-07        6041   100              197               8   \n",
       "2  2017-10-08          25   100                0               5   \n",
       "3  2017-10-09        5461   100              174               4   \n",
       "4  2017-10-10        6915   200              223               5   \n",
       "\n",
       "   bool_of_active  weight_kg  \n",
       "0               0         66  \n",
       "1               0         66  \n",
       "2               0         66  \n",
       "3               0         66  \n",
       "4             500         66  "
      ]
     },
     "execution_count": 3,
     "metadata": {},
     "output_type": "execute_result"
    }
   ],
   "source": [
    "fit_df.head() #shows contents of the dataframe"
   ]
  },
  {
   "cell_type": "code",
   "execution_count": 4,
   "metadata": {},
   "outputs": [
    {
     "data": {
      "text/plain": [
       "(96, 7)"
      ]
     },
     "execution_count": 4,
     "metadata": {},
     "output_type": "execute_result"
    }
   ],
   "source": [
    "#returns number of rows and columns of dataframe; stores it in tuple\n",
    "fit_df.shape"
   ]
  },
  {
   "cell_type": "code",
   "execution_count": 5,
   "metadata": {},
   "outputs": [],
   "source": [
    "#drops 'calories_burned' column\n",
    "fit_df.drop('calories_burned', axis=1, inplace=True)"
   ]
  },
  {
   "cell_type": "code",
   "execution_count": 6,
   "metadata": {},
   "outputs": [
    {
     "data": {
      "text/html": [
       "<div>\n",
       "<style scoped>\n",
       "    .dataframe tbody tr th:only-of-type {\n",
       "        vertical-align: middle;\n",
       "    }\n",
       "\n",
       "    .dataframe tbody tr th {\n",
       "        vertical-align: top;\n",
       "    }\n",
       "\n",
       "    .dataframe thead th {\n",
       "        text-align: right;\n",
       "    }\n",
       "</style>\n",
       "<table border=\"1\" class=\"dataframe\">\n",
       "  <thead>\n",
       "    <tr style=\"text-align: right;\">\n",
       "      <th></th>\n",
       "      <th>date</th>\n",
       "      <th>step_count</th>\n",
       "      <th>mood</th>\n",
       "      <th>hours_of_sleep</th>\n",
       "      <th>bool_of_active</th>\n",
       "      <th>weight_kg</th>\n",
       "    </tr>\n",
       "  </thead>\n",
       "  <tbody>\n",
       "    <tr>\n",
       "      <th>0</th>\n",
       "      <td>2017-10-06</td>\n",
       "      <td>5464</td>\n",
       "      <td>200</td>\n",
       "      <td>5</td>\n",
       "      <td>0</td>\n",
       "      <td>66</td>\n",
       "    </tr>\n",
       "    <tr>\n",
       "      <th>1</th>\n",
       "      <td>2017-10-07</td>\n",
       "      <td>6041</td>\n",
       "      <td>100</td>\n",
       "      <td>8</td>\n",
       "      <td>0</td>\n",
       "      <td>66</td>\n",
       "    </tr>\n",
       "    <tr>\n",
       "      <th>2</th>\n",
       "      <td>2017-10-08</td>\n",
       "      <td>25</td>\n",
       "      <td>100</td>\n",
       "      <td>5</td>\n",
       "      <td>0</td>\n",
       "      <td>66</td>\n",
       "    </tr>\n",
       "    <tr>\n",
       "      <th>3</th>\n",
       "      <td>2017-10-09</td>\n",
       "      <td>5461</td>\n",
       "      <td>100</td>\n",
       "      <td>4</td>\n",
       "      <td>0</td>\n",
       "      <td>66</td>\n",
       "    </tr>\n",
       "    <tr>\n",
       "      <th>4</th>\n",
       "      <td>2017-10-10</td>\n",
       "      <td>6915</td>\n",
       "      <td>200</td>\n",
       "      <td>5</td>\n",
       "      <td>500</td>\n",
       "      <td>66</td>\n",
       "    </tr>\n",
       "  </tbody>\n",
       "</table>\n",
       "</div>"
      ],
      "text/plain": [
       "         date  step_count  mood  hours_of_sleep  bool_of_active  weight_kg\n",
       "0  2017-10-06        5464   200               5               0         66\n",
       "1  2017-10-07        6041   100               8               0         66\n",
       "2  2017-10-08          25   100               5               0         66\n",
       "3  2017-10-09        5461   100               4               0         66\n",
       "4  2017-10-10        6915   200               5             500         66"
      ]
     },
     "execution_count": 6,
     "metadata": {},
     "output_type": "execute_result"
    }
   ],
   "source": [
    "#show contents of dataframe\n",
    "fit_df.head()"
   ]
  },
  {
   "cell_type": "code",
   "execution_count": 7,
   "metadata": {},
   "outputs": [
    {
     "data": {
      "text/plain": [
       "7422"
      ]
     },
     "execution_count": 7,
     "metadata": {},
     "output_type": "execute_result"
    }
   ],
   "source": [
    "fit_df['step_count'].max() #returns max value in step_count column"
   ]
  },
  {
   "cell_type": "code",
   "execution_count": 8,
   "metadata": {},
   "outputs": [
    {
     "data": {
      "text/plain": [
       "25"
      ]
     },
     "execution_count": 8,
     "metadata": {},
     "output_type": "execute_result"
    }
   ],
   "source": [
    "fit_df['step_count'].min() #returns min value in step_count column"
   ]
  },
  {
   "cell_type": "code",
   "execution_count": 9,
   "metadata": {},
   "outputs": [
    {
     "data": {
      "text/plain": [
       "2935.9375"
      ]
     },
     "execution_count": 9,
     "metadata": {},
     "output_type": "execute_result"
    }
   ],
   "source": [
    "fit_df['step_count'].mean() #returns average of all values in step_count column"
   ]
  },
  {
   "cell_type": "code",
   "execution_count": 10,
   "metadata": {},
   "outputs": [
    {
     "data": {
      "text/plain": [
       "2987.5"
      ]
     },
     "execution_count": 10,
     "metadata": {},
     "output_type": "execute_result"
    }
   ],
   "source": [
    "fit_df['step_count'].median() #returns median of all values in 'step_count' column"
   ]
  },
  {
   "cell_type": "code",
   "execution_count": 11,
   "metadata": {},
   "outputs": [
    {
     "data": {
      "text/plain": [
       "array([5, 8, 4, 6, 7, 3, 2, 9], dtype=int64)"
      ]
     },
     "execution_count": 11,
     "metadata": {},
     "output_type": "execute_result"
    }
   ],
   "source": [
    "fit_df['hours_of_sleep'].unique() #shows all values of 'hours_of_sleep' column"
   ]
  },
  {
   "cell_type": "code",
   "execution_count": 12,
   "metadata": {},
   "outputs": [
    {
     "data": {
      "text/plain": [
       "array([  0, 500], dtype=int64)"
      ]
     },
     "execution_count": 12,
     "metadata": {},
     "output_type": "execute_result"
    }
   ],
   "source": [
    "fit_df['bool_of_active'].unique() #shows all values of 'bool_of_active' column"
   ]
  },
  {
   "cell_type": "code",
   "execution_count": 13,
   "metadata": {},
   "outputs": [
    {
     "data": {
      "text/plain": [
       "array([66, 65, 64], dtype=int64)"
      ]
     },
     "execution_count": 13,
     "metadata": {},
     "output_type": "execute_result"
    }
   ],
   "source": [
    "fit_df['weight_kg'].unique() #shows all values of 'weight_kg' column"
   ]
  },
  {
   "cell_type": "code",
   "execution_count": 14,
   "metadata": {},
   "outputs": [
    {
     "data": {
      "text/plain": [
       "0     2017-10-06\n",
       "1     2017-10-07\n",
       "2     2017-10-08\n",
       "3     2017-10-09\n",
       "4     2017-10-10\n",
       "5     2017-10-11\n",
       "6     2017-10-12\n",
       "7     2017-10-13\n",
       "8     2017-10-14\n",
       "9     2017-10-15\n",
       "10    2017-10-16\n",
       "11    2017-10-17\n",
       "12    2017-10-18\n",
       "13    2017-10-19\n",
       "14    2017-10-20\n",
       "15    2017-10-21\n",
       "16    2017-10-22\n",
       "17    2017-10-23\n",
       "18    2017-10-24\n",
       "19    2017-10-25\n",
       "20    2017-10-26\n",
       "21    2017-10-27\n",
       "22    2017-10-28\n",
       "23    2017-10-29\n",
       "24    2017-10-30\n",
       "25    2017-10-31\n",
       "26    2017-11-01\n",
       "27    2017-11-02\n",
       "28    2017-11-03\n",
       "29    2017-11-04\n",
       "         ...    \n",
       "66    2017-12-11\n",
       "67    2017-12-12\n",
       "68    2017-12-13\n",
       "69    2017-12-14\n",
       "70    2017-12-15\n",
       "71    2017-12-16\n",
       "72    2017-12-17\n",
       "73    2017-12-18\n",
       "74    2017-12-19\n",
       "75    2017-12-20\n",
       "76    2017-12-21\n",
       "77    2017-12-22\n",
       "78    2017-12-23\n",
       "79    2017-12-24\n",
       "80    2017-12-25\n",
       "81    2017-12-26\n",
       "82    2017-12-27\n",
       "83    2017-12-28\n",
       "84    2017-12-29\n",
       "85    2017-12-30\n",
       "86    2017-12-31\n",
       "87    2018-01-01\n",
       "88    2018-01-02\n",
       "89    2018-01-03\n",
       "90    2018-01-04\n",
       "91    2018-01-05\n",
       "92    2018-01-06\n",
       "93    2018-01-07\n",
       "94    2018-01-08\n",
       "95    2018-01-09\n",
       "Name: date, Length: 96, dtype: object"
      ]
     },
     "execution_count": 14,
     "metadata": {},
     "output_type": "execute_result"
    }
   ],
   "source": [
    "#shows values in date column\n",
    "fit_df['date']"
   ]
  },
  {
   "cell_type": "code",
   "execution_count": 15,
   "metadata": {},
   "outputs": [],
   "source": [
    "#Extracts month from date\n",
    "fit_df['month'] = pd.DatetimeIndex(fit_df['date']).month"
   ]
  },
  {
   "cell_type": "code",
   "execution_count": 16,
   "metadata": {},
   "outputs": [
    {
     "data": {
      "text/html": [
       "<div>\n",
       "<style scoped>\n",
       "    .dataframe tbody tr th:only-of-type {\n",
       "        vertical-align: middle;\n",
       "    }\n",
       "\n",
       "    .dataframe tbody tr th {\n",
       "        vertical-align: top;\n",
       "    }\n",
       "\n",
       "    .dataframe thead th {\n",
       "        text-align: right;\n",
       "    }\n",
       "</style>\n",
       "<table border=\"1\" class=\"dataframe\">\n",
       "  <thead>\n",
       "    <tr style=\"text-align: right;\">\n",
       "      <th></th>\n",
       "      <th>date</th>\n",
       "      <th>step_count</th>\n",
       "      <th>mood</th>\n",
       "      <th>hours_of_sleep</th>\n",
       "      <th>bool_of_active</th>\n",
       "      <th>weight_kg</th>\n",
       "      <th>month</th>\n",
       "    </tr>\n",
       "  </thead>\n",
       "  <tbody>\n",
       "    <tr>\n",
       "      <th>0</th>\n",
       "      <td>2017-10-06</td>\n",
       "      <td>5464</td>\n",
       "      <td>200</td>\n",
       "      <td>5</td>\n",
       "      <td>0</td>\n",
       "      <td>66</td>\n",
       "      <td>10</td>\n",
       "    </tr>\n",
       "    <tr>\n",
       "      <th>1</th>\n",
       "      <td>2017-10-07</td>\n",
       "      <td>6041</td>\n",
       "      <td>100</td>\n",
       "      <td>8</td>\n",
       "      <td>0</td>\n",
       "      <td>66</td>\n",
       "      <td>10</td>\n",
       "    </tr>\n",
       "    <tr>\n",
       "      <th>2</th>\n",
       "      <td>2017-10-08</td>\n",
       "      <td>25</td>\n",
       "      <td>100</td>\n",
       "      <td>5</td>\n",
       "      <td>0</td>\n",
       "      <td>66</td>\n",
       "      <td>10</td>\n",
       "    </tr>\n",
       "    <tr>\n",
       "      <th>3</th>\n",
       "      <td>2017-10-09</td>\n",
       "      <td>5461</td>\n",
       "      <td>100</td>\n",
       "      <td>4</td>\n",
       "      <td>0</td>\n",
       "      <td>66</td>\n",
       "      <td>10</td>\n",
       "    </tr>\n",
       "    <tr>\n",
       "      <th>4</th>\n",
       "      <td>2017-10-10</td>\n",
       "      <td>6915</td>\n",
       "      <td>200</td>\n",
       "      <td>5</td>\n",
       "      <td>500</td>\n",
       "      <td>66</td>\n",
       "      <td>10</td>\n",
       "    </tr>\n",
       "  </tbody>\n",
       "</table>\n",
       "</div>"
      ],
      "text/plain": [
       "         date  step_count  mood  hours_of_sleep  bool_of_active  weight_kg  \\\n",
       "0  2017-10-06        5464   200               5               0         66   \n",
       "1  2017-10-07        6041   100               8               0         66   \n",
       "2  2017-10-08          25   100               5               0         66   \n",
       "3  2017-10-09        5461   100               4               0         66   \n",
       "4  2017-10-10        6915   200               5             500         66   \n",
       "\n",
       "   month  \n",
       "0     10  \n",
       "1     10  \n",
       "2     10  \n",
       "3     10  \n",
       "4     10  "
      ]
     },
     "execution_count": 16,
     "metadata": {},
     "output_type": "execute_result"
    }
   ],
   "source": [
    "#shows contents of updated dataframe\n",
    "fit_df.head()"
   ]
  },
  {
   "cell_type": "code",
   "execution_count": 17,
   "metadata": {},
   "outputs": [],
   "source": [
    "#drops date column from dataframe\n",
    "fit_df.drop('date', axis=1, inplace=True)"
   ]
  },
  {
   "cell_type": "code",
   "execution_count": 18,
   "metadata": {},
   "outputs": [
    {
     "data": {
      "text/html": [
       "<div>\n",
       "<style scoped>\n",
       "    .dataframe tbody tr th:only-of-type {\n",
       "        vertical-align: middle;\n",
       "    }\n",
       "\n",
       "    .dataframe tbody tr th {\n",
       "        vertical-align: top;\n",
       "    }\n",
       "\n",
       "    .dataframe thead th {\n",
       "        text-align: right;\n",
       "    }\n",
       "</style>\n",
       "<table border=\"1\" class=\"dataframe\">\n",
       "  <thead>\n",
       "    <tr style=\"text-align: right;\">\n",
       "      <th></th>\n",
       "      <th>step_count</th>\n",
       "      <th>mood</th>\n",
       "      <th>hours_of_sleep</th>\n",
       "      <th>bool_of_active</th>\n",
       "      <th>weight_kg</th>\n",
       "      <th>month</th>\n",
       "    </tr>\n",
       "  </thead>\n",
       "  <tbody>\n",
       "    <tr>\n",
       "      <th>0</th>\n",
       "      <td>5464</td>\n",
       "      <td>200</td>\n",
       "      <td>5</td>\n",
       "      <td>0</td>\n",
       "      <td>66</td>\n",
       "      <td>10</td>\n",
       "    </tr>\n",
       "    <tr>\n",
       "      <th>1</th>\n",
       "      <td>6041</td>\n",
       "      <td>100</td>\n",
       "      <td>8</td>\n",
       "      <td>0</td>\n",
       "      <td>66</td>\n",
       "      <td>10</td>\n",
       "    </tr>\n",
       "    <tr>\n",
       "      <th>2</th>\n",
       "      <td>25</td>\n",
       "      <td>100</td>\n",
       "      <td>5</td>\n",
       "      <td>0</td>\n",
       "      <td>66</td>\n",
       "      <td>10</td>\n",
       "    </tr>\n",
       "    <tr>\n",
       "      <th>3</th>\n",
       "      <td>5461</td>\n",
       "      <td>100</td>\n",
       "      <td>4</td>\n",
       "      <td>0</td>\n",
       "      <td>66</td>\n",
       "      <td>10</td>\n",
       "    </tr>\n",
       "    <tr>\n",
       "      <th>4</th>\n",
       "      <td>6915</td>\n",
       "      <td>200</td>\n",
       "      <td>5</td>\n",
       "      <td>500</td>\n",
       "      <td>66</td>\n",
       "      <td>10</td>\n",
       "    </tr>\n",
       "  </tbody>\n",
       "</table>\n",
       "</div>"
      ],
      "text/plain": [
       "   step_count  mood  hours_of_sleep  bool_of_active  weight_kg  month\n",
       "0        5464   200               5               0         66     10\n",
       "1        6041   100               8               0         66     10\n",
       "2          25   100               5               0         66     10\n",
       "3        5461   100               4               0         66     10\n",
       "4        6915   200               5             500         66     10"
      ]
     },
     "execution_count": 18,
     "metadata": {},
     "output_type": "execute_result"
    }
   ],
   "source": [
    "fit_df.head()"
   ]
  },
  {
   "cell_type": "code",
   "execution_count": 19,
   "metadata": {},
   "outputs": [
    {
     "data": {
      "text/plain": [
       "array([10, 11, 12,  1], dtype=int64)"
      ]
     },
     "execution_count": 19,
     "metadata": {},
     "output_type": "execute_result"
    }
   ],
   "source": [
    "fit_df['month'].unique() #shows values of 'month' column"
   ]
  },
  {
   "cell_type": "code",
   "execution_count": 20,
   "metadata": {},
   "outputs": [
    {
     "data": {
      "text/plain": [
       "2935.9375"
      ]
     },
     "execution_count": 20,
     "metadata": {},
     "output_type": "execute_result"
    }
   ],
   "source": [
    "fit_df['step_count'].mean() #takes average value of the step_count column"
   ]
  },
  {
   "cell_type": "code",
   "execution_count": 21,
   "metadata": {},
   "outputs": [
    {
     "data": {
      "text/plain": [
       "<matplotlib.axes._subplots.AxesSubplot at 0x1eab2df5d30>"
      ]
     },
     "execution_count": 21,
     "metadata": {},
     "output_type": "execute_result"
    },
    {
     "data": {
      "image/png": "[encoded data removed]",
      "text/plain": [
       "<matplotlib.figure.Figure at 0x1eab2d792e8>"
      ]
     },
     "metadata": {},
     "output_type": "display_data"
    }
   ],
   "source": [
    "#shows the heatmap of the updated dataframe\n",
    "fit_df_corr = fit_df.corr()\n",
    "sns.heatmap(fit_df_corr, annot=True)"
   ]
  },
  {
   "cell_type": "code",
   "execution_count": 22,
   "metadata": {},
   "outputs": [],
   "source": [
    "#resamples dataframe to a 1000 rows\n",
    "fit_df = resample(fit_df, n_samples = 1000)"
   ]
  },
  {
   "cell_type": "code",
   "execution_count": 23,
   "metadata": {},
   "outputs": [],
   "source": [
    "#splits up dataframe into features dataframe and target column\n",
    "X = fit_df.drop('step_count', axis=1)\n",
    "y = fit_df['step_count']"
   ]
  },
  {
   "cell_type": "code",
   "execution_count": 61,
   "metadata": {},
   "outputs": [],
   "source": [
    "#Initializes SelectKBest function\n",
    "selectkbest = SelectKBest(score_func=f_regression, k=2)"
   ]
  },
  {
   "cell_type": "code",
   "execution_count": 62,
   "metadata": {},
   "outputs": [
    {
     "data": {
      "text/plain": [
       "SelectKBest(k=2, score_func=<function f_regression at 0x000001EAB2C549D8>)"
      ]
     },
     "execution_count": 62,
     "metadata": {},
     "output_type": "execute_result"
    }
   ],
   "source": [
    "#Selects at least three features to use from the features set in building a predictive model\n",
    "selectkbest.fit(X, y)"
   ]
  },
  {
   "cell_type": "code",
   "execution_count": 63,
   "metadata": {},
   "outputs": [
    {
     "name": "stdout",
     "output_type": "stream",
     "text": [
      "(1000, 5) (1000, 2)\n"
     ]
    }
   ],
   "source": [
    "#prints the sizes of the features set and the selected features set\n",
    "selected_xs = selectkbest.transform(X)\n",
    "print(X.shape, selected_xs.shape)"
   ]
  },
  {
   "cell_type": "code",
   "execution_count": 64,
   "metadata": {},
   "outputs": [
    {
     "name": "stdout",
     "output_type": "stream",
     "text": [
      "All features\n",
      "[ 0.23293642  0.19202906  0.15526432] \n",
      " Mean:  0.193409930554 \n",
      "\n",
      "Feature Selection via SelectKBest\n",
      "[ 0.10833442  0.11319008  0.11616756] \n",
      " Mean:  0.112564018964\n"
     ]
    }
   ],
   "source": [
    "#Intializes Linear Regression function\n",
    "lr = LinearRegression()\n",
    "\n",
    "#prints mean cross validation score of all features against the target \n",
    "print('All features')\n",
    "scores = cross_val_score(lr, X, y)\n",
    "print(scores, '\\n', 'Mean: ', scores.mean(),'\\n')\n",
    "\n",
    "#prints mean cross validation score of selected features against the target \n",
    "print('Feature Selection via SelectKBest')\n",
    "scores = cross_val_score(lr, selected_xs, y)\n",
    "print(scores, '\\n', 'Mean: ', scores.mean())"
   ]
  },
  {
   "cell_type": "code",
   "execution_count": 28,
   "metadata": {},
   "outputs": [
    {
     "data": {
      "text/plain": [
       "array([3158,  774,  614,  651,  518, 7102, 1831, 1231,  437, 4683,  133,\n",
       "       3941, 4064,  546,  221, 4275, 2203, 3149, 5999,  269, 2822,   36,\n",
       "       1230, 6041, 2599, 3148, 4136, 5461,  181, 5376, 1696, 4108, 4005,\n",
       "       5934,  493, 1163, 4421, 3608,  177, 1867, 2255, 3066, 4921, 4880,\n",
       "        202, 6930,  153, 3575,  799,  705,  330, 5195,  570,  500,  299,\n",
       "       4068, 6500, 6915, 2909, 1421, 1580, 1447, 4435, 3881, 4340, 4383,\n",
       "       4779, 6314,  292, 4550, 5464, 2374, 4545, 4687, 7422,  753,   25,\n",
       "       6676, 4732, 1648, 5537, 1258, 3519, 4061, 2127,   61, 3721, 4033,\n",
       "       4037,  702, 2209,  995,  539, 2725], dtype=int64)"
      ]
     },
     "execution_count": 28,
     "metadata": {},
     "output_type": "execute_result"
    }
   ],
   "source": [
    "#shows values of target variable(step_count)\n",
    "y.unique()"
   ]
  },
  {
   "cell_type": "code",
   "execution_count": 29,
   "metadata": {},
   "outputs": [
    {
     "data": {
      "text/html": [
       "<div>\n",
       "<style scoped>\n",
       "    .dataframe tbody tr th:only-of-type {\n",
       "        vertical-align: middle;\n",
       "    }\n",
       "\n",
       "    .dataframe tbody tr th {\n",
       "        vertical-align: top;\n",
       "    }\n",
       "\n",
       "    .dataframe thead th {\n",
       "        text-align: right;\n",
       "    }\n",
       "</style>\n",
       "<table border=\"1\" class=\"dataframe\">\n",
       "  <thead>\n",
       "    <tr style=\"text-align: right;\">\n",
       "      <th></th>\n",
       "      <th>mood</th>\n",
       "      <th>hours_of_sleep</th>\n",
       "      <th>bool_of_active</th>\n",
       "      <th>weight_kg</th>\n",
       "      <th>month</th>\n",
       "    </tr>\n",
       "  </thead>\n",
       "  <tbody>\n",
       "    <tr>\n",
       "      <th>17</th>\n",
       "      <td>200</td>\n",
       "      <td>5</td>\n",
       "      <td>0</td>\n",
       "      <td>65</td>\n",
       "      <td>10</td>\n",
       "    </tr>\n",
       "    <tr>\n",
       "      <th>56</th>\n",
       "      <td>300</td>\n",
       "      <td>6</td>\n",
       "      <td>500</td>\n",
       "      <td>64</td>\n",
       "      <td>12</td>\n",
       "    </tr>\n",
       "    <tr>\n",
       "      <th>37</th>\n",
       "      <td>300</td>\n",
       "      <td>4</td>\n",
       "      <td>500</td>\n",
       "      <td>64</td>\n",
       "      <td>11</td>\n",
       "    </tr>\n",
       "    <tr>\n",
       "      <th>78</th>\n",
       "      <td>100</td>\n",
       "      <td>5</td>\n",
       "      <td>0</td>\n",
       "      <td>64</td>\n",
       "      <td>12</td>\n",
       "    </tr>\n",
       "    <tr>\n",
       "      <th>80</th>\n",
       "      <td>100</td>\n",
       "      <td>3</td>\n",
       "      <td>0</td>\n",
       "      <td>64</td>\n",
       "      <td>12</td>\n",
       "    </tr>\n",
       "  </tbody>\n",
       "</table>\n",
       "</div>"
      ],
      "text/plain": [
       "    mood  hours_of_sleep  bool_of_active  weight_kg  month\n",
       "17   200               5               0         65     10\n",
       "56   300               6             500         64     12\n",
       "37   300               4             500         64     11\n",
       "78   100               5               0         64     12\n",
       "80   100               3               0         64     12"
      ]
     },
     "execution_count": 29,
     "metadata": {},
     "output_type": "execute_result"
    }
   ],
   "source": [
    "#shows contents of predictor set\n",
    "X.head()"
   ]
  },
  {
   "cell_type": "code",
   "execution_count": 30,
   "metadata": {},
   "outputs": [
    {
     "data": {
      "text/plain": [
       "17    3158\n",
       "56     774\n",
       "37     614\n",
       "78     651\n",
       "80     518\n",
       "Name: step_count, dtype: int64"
      ]
     },
     "execution_count": 30,
     "metadata": {},
     "output_type": "execute_result"
    }
   ],
   "source": [
    "#shows contents of target column\n",
    "y.head()"
   ]
  },
  {
   "cell_type": "code",
   "execution_count": 31,
   "metadata": {},
   "outputs": [
    {
     "data": {
      "text/plain": [
       "(1000, 5)"
      ]
     },
     "execution_count": 31,
     "metadata": {},
     "output_type": "execute_result"
    }
   ],
   "source": [
    "X.shape"
   ]
  },
  {
   "cell_type": "code",
   "execution_count": 32,
   "metadata": {},
   "outputs": [
    {
     "data": {
      "text/plain": [
       "(1000,)"
      ]
     },
     "execution_count": 32,
     "metadata": {},
     "output_type": "execute_result"
    }
   ],
   "source": [
    "y.shape"
   ]
  },
  {
   "cell_type": "code",
   "execution_count": 33,
   "metadata": {},
   "outputs": [],
   "source": [
    "#splits predictor set and target column into a training set and test set, in this case 80% of data was allocated towards the training set and 20% was allocated towards the test set\n",
    "X_train, X_test, y_train, y_test = train_test_split(X, y, test_size=0.20)"
   ]
  },
  {
   "cell_type": "code",
   "execution_count": 34,
   "metadata": {},
   "outputs": [
    {
     "data": {
      "text/plain": [
       "((800, 5), (200, 5), (800,), (200,))"
      ]
     },
     "execution_count": 34,
     "metadata": {},
     "output_type": "execute_result"
    }
   ],
   "source": [
    "#displays sizes of all of the training and test dataframes\n",
    "X_train.shape, X_test.shape, y_train.shape, y_test.shape"
   ]
  },
  {
   "cell_type": "code",
   "execution_count": 35,
   "metadata": {},
   "outputs": [],
   "source": [
    "#Inttializes StandardScaler function\n",
    "sc = StandardScaler()\n",
    "X_train = sc.fit_transform(X_train) #Standardizes X_train\n",
    "X_test = sc.fit_transform(X_test) #Standardizes X_test"
   ]
  },
  {
   "cell_type": "code",
   "execution_count": 36,
   "metadata": {},
   "outputs": [
    {
     "data": {
      "text/plain": [
       "RandomForestClassifier(bootstrap=True, class_weight=None, criterion='gini',\n",
       "            max_depth=None, max_features='auto', max_leaf_nodes=None,\n",
       "            min_impurity_decrease=0.0, min_impurity_split=None,\n",
       "            min_samples_leaf=1, min_samples_split=2,\n",
       "            min_weight_fraction_leaf=0.0, n_estimators=10, n_jobs=1,\n",
       "            oob_score=False, random_state=None, verbose=0,\n",
       "            warm_start=False)"
      ]
     },
     "execution_count": 36,
     "metadata": {},
     "output_type": "execute_result"
    }
   ],
   "source": [
    "#Initializes RandomForestClassifier function\n",
    "rfc = RandomForestClassifier()\n",
    "rfc.fit(X_train, y_train) #builds predictive algorithm with training sets using Random Forest Classifier"
   ]
  },
  {
   "cell_type": "code",
   "execution_count": 37,
   "metadata": {},
   "outputs": [
    {
     "data": {
      "text/plain": [
       "0.51000000000000001"
      ]
     },
     "execution_count": 37,
     "metadata": {},
     "output_type": "execute_result"
    }
   ],
   "source": [
    "rfc.score(X_test, y_test) #scores Random Forest Classifier algorithm on the test sets"
   ]
  },
  {
   "cell_type": "code",
   "execution_count": 38,
   "metadata": {},
   "outputs": [],
   "source": [
    "#Initializes KNeighborsClassifier function with 5 neighbors\n",
    "knn = KNeighborsClassifier(n_neighbors=5)"
   ]
  },
  {
   "cell_type": "code",
   "execution_count": 39,
   "metadata": {
    "scrolled": true
   },
   "outputs": [
    {
     "data": {
      "text/plain": [
       "KNeighborsClassifier(algorithm='auto', leaf_size=30, metric='minkowski',\n",
       "           metric_params=None, n_jobs=1, n_neighbors=5, p=2,\n",
       "           weights='uniform')"
      ]
     },
     "execution_count": 39,
     "metadata": {},
     "output_type": "execute_result"
    }
   ],
   "source": [
    "knn.fit(X_train, y_train) #builds predictive alorightm using KNearestNeighbors"
   ]
  },
  {
   "cell_type": "code",
   "execution_count": 40,
   "metadata": {},
   "outputs": [
    {
     "data": {
      "text/plain": [
       "0.48999999999999999"
      ]
     },
     "execution_count": 40,
     "metadata": {},
     "output_type": "execute_result"
    }
   ],
   "source": [
    "knn.score(X_test, y_test) #scores predictive algorithm on testing sets"
   ]
  },
  {
   "cell_type": "code",
   "execution_count": 41,
   "metadata": {},
   "outputs": [],
   "source": [
    "lr = LinearRegression() #Initializes Linear Regression function"
   ]
  },
  {
   "cell_type": "code",
   "execution_count": 65,
   "metadata": {},
   "outputs": [
    {
     "data": {
      "text/plain": [
       "LinearRegression(copy_X=True, fit_intercept=True, n_jobs=1, normalize=False)"
      ]
     },
     "execution_count": 65,
     "metadata": {},
     "output_type": "execute_result"
    }
   ],
   "source": [
    "lr.fit(X_train, y_train) #Builds predictive algorithm using Linear Regression"
   ]
  },
  {
   "cell_type": "code",
   "execution_count": 66,
   "metadata": {},
   "outputs": [
    {
     "data": {
      "text/plain": [
       "0.049900935258176737"
      ]
     },
     "execution_count": 66,
     "metadata": {},
     "output_type": "execute_result"
    }
   ],
   "source": [
    "lr.score(X_test, y_test) #scores Linear Regression algorithm on testing sets"
   ]
  },
  {
   "cell_type": "code",
   "execution_count": 44,
   "metadata": {},
   "outputs": [
    {
     "data": {
      "text/plain": [
       "Lasso(alpha=1.0, copy_X=True, fit_intercept=True, max_iter=1000,\n",
       "   normalize=False, positive=False, precompute=False, random_state=None,\n",
       "   selection='cyclic', tol=0.0001, warm_start=False)"
      ]
     },
     "execution_count": 44,
     "metadata": {},
     "output_type": "execute_result"
    }
   ],
   "source": [
    "#Builds predictive model using Lasso Regression\n",
    "clf = linear_model.Lasso()\n",
    "clf.fit(X_train, y_train)"
   ]
  },
  {
   "cell_type": "code",
   "execution_count": 45,
   "metadata": {},
   "outputs": [
    {
     "data": {
      "text/plain": [
       "0.050463432889210069"
      ]
     },
     "execution_count": 45,
     "metadata": {},
     "output_type": "execute_result"
    }
   ],
   "source": [
    "clf.score(X_test, y_test)"
   ]
  },
  {
   "cell_type": "code",
   "execution_count": 46,
   "metadata": {},
   "outputs": [
    {
     "data": {
      "text/plain": [
       "Ridge(alpha=1.0, copy_X=True, fit_intercept=True, max_iter=None,\n",
       "   normalize=False, random_state=None, solver='auto', tol=0.001)"
      ]
     },
     "execution_count": 46,
     "metadata": {},
     "output_type": "execute_result"
    }
   ],
   "source": [
    "#Builds predictive model using Ridge Regression\n",
    "ridge = linear_model.Ridge()\n",
    "ridge.fit(X_train, y_train)"
   ]
  },
  {
   "cell_type": "code",
   "execution_count": 47,
   "metadata": {},
   "outputs": [
    {
     "data": {
      "text/plain": [
       "0.050375652923459469"
      ]
     },
     "execution_count": 47,
     "metadata": {},
     "output_type": "execute_result"
    }
   ],
   "source": [
    "ridge.score(X_test, y_test)"
   ]
  },
  {
   "cell_type": "code",
   "execution_count": 48,
   "metadata": {},
   "outputs": [
    {
     "data": {
      "text/plain": [
       "ElasticNet(alpha=1.0, copy_X=True, fit_intercept=True, l1_ratio=0.5,\n",
       "      max_iter=1000, normalize=False, positive=False, precompute=False,\n",
       "      random_state=None, selection='cyclic', tol=0.0001, warm_start=False)"
      ]
     },
     "execution_count": 48,
     "metadata": {},
     "output_type": "execute_result"
    }
   ],
   "source": [
    "#Builds predictive model using ElasticNet\n",
    "en = linear_model.ElasticNet()\n",
    "en.fit(X_train, y_train)"
   ]
  },
  {
   "cell_type": "code",
   "execution_count": 49,
   "metadata": {},
   "outputs": [
    {
     "data": {
      "text/plain": [
       "0.090579802642480667"
      ]
     },
     "execution_count": 49,
     "metadata": {},
     "output_type": "execute_result"
    }
   ],
   "source": [
    "en.score(X_test, y_test)"
   ]
  },
  {
   "cell_type": "code",
   "execution_count": 50,
   "metadata": {},
   "outputs": [],
   "source": [
    "#predicts target values from Random Forest Classifiction predictive model\n",
    "y_pred = rfc.predict(X_test)"
   ]
  },
  {
   "cell_type": "code",
   "execution_count": 51,
   "metadata": {},
   "outputs": [
    {
     "name": "stdout",
     "output_type": "stream",
     "text": [
      "             precision    recall  f1-score   support\n",
      "\n",
      "         25       0.00      0.00      0.00         3\n",
      "         36       0.00      0.00      0.00         2\n",
      "         61       0.00      0.00      0.00         0\n",
      "        133       1.00      1.00      1.00         4\n",
      "        177       0.00      0.00      0.00         0\n",
      "        181       0.00      0.00      0.00         2\n",
      "        202       1.00      1.00      1.00         4\n",
      "        221       0.33      1.00      0.50         1\n",
      "        269       0.14      1.00      0.25         1\n",
      "        292       0.29      1.00      0.44         2\n",
      "        299       0.50      1.00      0.67         1\n",
      "        330       1.00      1.00      1.00         5\n",
      "        437       0.57      1.00      0.73         4\n",
      "        493       1.00      1.00      1.00         2\n",
      "        518       0.50      1.00      0.67         2\n",
      "        539       0.00      0.00      0.00         1\n",
      "        546       0.00      0.00      0.00         4\n",
      "        570       1.00      1.00      1.00         2\n",
      "        614       1.00      1.00      1.00         6\n",
      "        651       0.00      0.00      0.00         5\n",
      "        702       0.00      0.00      0.00         1\n",
      "        705       0.00      0.00      0.00         2\n",
      "        753       0.00      0.00      0.00         3\n",
      "        774       1.00      1.00      1.00         3\n",
      "        799       0.00      0.00      0.00         1\n",
      "        995       0.00      0.00      0.00         2\n",
      "       1163       1.00      1.00      1.00         2\n",
      "       1230       1.00      1.00      1.00         3\n",
      "       1231       0.00      0.00      0.00         0\n",
      "       1258       0.00      0.00      0.00         3\n",
      "       1421       0.00      0.00      0.00         3\n",
      "       1447       1.00      1.00      1.00         3\n",
      "       1580       0.00      0.00      0.00         0\n",
      "       1648       1.00      1.00      1.00         2\n",
      "       1696       0.20      1.00      0.33         1\n",
      "       1831       0.14      1.00      0.25         2\n",
      "       1867       0.33      1.00      0.50         1\n",
      "       2203       1.00      1.00      1.00         2\n",
      "       2209       0.00      0.00      0.00         3\n",
      "       2255       0.33      1.00      0.50         2\n",
      "       2374       1.00      1.00      1.00         1\n",
      "       2599       1.00      1.00      1.00         3\n",
      "       2822       0.40      1.00      0.57         2\n",
      "       2909       0.00      0.00      0.00         3\n",
      "       3066       0.00      0.00      0.00         1\n",
      "       3148       0.60      1.00      0.75         3\n",
      "       3149       0.00      0.00      0.00         4\n",
      "       3158       1.00      1.00      1.00         3\n",
      "       3519       1.00      1.00      1.00         2\n",
      "       3575       0.00      0.00      0.00         2\n",
      "       3608       0.00      0.00      0.00         3\n",
      "       3721       0.00      0.00      0.00         2\n",
      "       3881       0.00      0.00      0.00         2\n",
      "       3941       0.00      0.00      0.00         1\n",
      "       4005       1.00      1.00      1.00         2\n",
      "       4033       0.00      0.00      0.00         3\n",
      "       4037       1.00      1.00      1.00         2\n",
      "       4061       0.00      0.00      0.00         4\n",
      "       4064       0.00      0.00      0.00         2\n",
      "       4068       1.00      1.00      1.00         2\n",
      "       4108       0.00      0.00      0.00         2\n",
      "       4136       0.11      1.00      0.20         1\n",
      "       4275       0.00      0.00      0.00         2\n",
      "       4340       0.00      0.00      0.00         2\n",
      "       4383       1.00      1.00      1.00         1\n",
      "       4421       0.00      0.00      0.00         2\n",
      "       4435       0.00      0.00      0.00         4\n",
      "       4545       0.50      1.00      0.67         2\n",
      "       4550       1.00      1.00      1.00         3\n",
      "       4683       1.00      1.00      1.00         3\n",
      "       4687       0.00      0.00      0.00         4\n",
      "       4732       1.00      1.00      1.00         2\n",
      "       4779       0.00      0.00      0.00         3\n",
      "       4921       0.00      0.00      0.00         6\n",
      "       5195       0.00      0.00      0.00         1\n",
      "       5376       0.00      0.00      0.00         3\n",
      "       5464       1.00      0.67      0.80         3\n",
      "       5934       0.25      1.00      0.40         1\n",
      "       5999       0.56      1.00      0.71         5\n",
      "       6041       1.00      1.00      1.00         4\n",
      "       6314       0.00      0.00      0.00         2\n",
      "       6500       0.00      0.00      0.00         4\n",
      "       6676       1.00      1.00      1.00         1\n",
      "       6915       1.00      1.00      1.00         1\n",
      "       7102       0.06      1.00      0.12         1\n",
      "       7422       0.00      0.00      0.00         0\n",
      "\n",
      "avg / total       0.42      0.51      0.44       200\n",
      "\n"
     ]
    },
    {
     "name": "stderr",
     "output_type": "stream",
     "text": [
      "C:\\Users\\vbots\\Anaconda3\\lib\\site-packages\\sklearn\\metrics\\classification.py:1135: UndefinedMetricWarning: Precision and F-score are ill-defined and being set to 0.0 in labels with no predicted samples.\n",
      "  'precision', 'predicted', average, warn_for)\n",
      "C:\\Users\\vbots\\Anaconda3\\lib\\site-packages\\sklearn\\metrics\\classification.py:1137: UndefinedMetricWarning: Recall and F-score are ill-defined and being set to 0.0 in labels with no true samples.\n",
      "  'recall', 'true', average, warn_for)\n"
     ]
    }
   ],
   "source": [
    "#prints classification report \n",
    "print(classification_report(y_test, y_pred))"
   ]
  },
  {
   "cell_type": "code",
   "execution_count": 52,
   "metadata": {},
   "outputs": [
    {
     "name": "stdout",
     "output_type": "stream",
     "text": [
      "0.51\n"
     ]
    }
   ],
   "source": [
    "#prints classification accuracy score between predicted and actual target values\n",
    "print(accuracy_score(y_test, y_pred))"
   ]
  },
  {
   "cell_type": "code",
   "execution_count": 53,
   "metadata": {},
   "outputs": [
    {
     "data": {
      "text/plain": [
       "614    0.03\n",
       "Name: step_count, dtype: float64"
      ]
     },
     "execution_count": 53,
     "metadata": {},
     "output_type": "execute_result"
    }
   ],
   "source": [
    "#prints baseline accuracy of target column\n",
    "y_test.value_counts().head(1) / len(y_test)"
   ]
  },
  {
   "cell_type": "code",
   "execution_count": 54,
   "metadata": {},
   "outputs": [
    {
     "data": {
      "text/plain": [
       "numpy.ndarray"
      ]
     },
     "execution_count": 54,
     "metadata": {},
     "output_type": "execute_result"
    }
   ],
   "source": [
    "type(y_pred)"
   ]
  },
  {
   "cell_type": "code",
   "execution_count": 55,
   "metadata": {},
   "outputs": [
    {
     "data": {
      "text/plain": [
       "26     6266\n",
       "19     4173\n",
       "27     7034\n",
       "15     5644\n",
       "50     6545\n",
       "75    13602\n",
       "79     2449\n",
       "23      660\n",
       "25     9100\n",
       "23      660\n",
       "88     2894\n",
       "51      986\n",
       "88     2894\n",
       "37     1228\n",
       "24     2501\n",
       "70      874\n",
       "67    14204\n",
       "75    13602\n",
       "91      266\n",
       "33     8136\n",
       "55     7744\n",
       "35     5864\n",
       "73    12023\n",
       "20     8074\n",
       "29     4510\n",
       "2        86\n",
       "47     6252\n",
       "42      974\n",
       "22      584\n",
       "24     2501\n",
       "      ...  \n",
       "89     5198\n",
       "79     2449\n",
       "88     2894\n",
       "79     2449\n",
       "12     9464\n",
       "82    11210\n",
       "11     6267\n",
       "5      9090\n",
       "53     2326\n",
       "44      538\n",
       "39     8010\n",
       "64     3346\n",
       "68    11043\n",
       "2        86\n",
       "73    12023\n",
       "10     6296\n",
       "83    12798\n",
       "77     4238\n",
       "39     8010\n",
       "27     7034\n",
       "76    10677\n",
       "77     4238\n",
       "38     7285\n",
       "45     6106\n",
       "77     4238\n",
       "9      4080\n",
       "62     3942\n",
       "60    11868\n",
       "11     6267\n",
       "15     5644\n",
       "Name: step_count, Length: 200, dtype: int64"
      ]
     },
     "execution_count": 55,
     "metadata": {},
     "output_type": "execute_result"
    }
   ],
   "source": [
    "#adds the predicted and actual y values(target values)\n",
    "y_test + y_pred"
   ]
  },
  {
   "cell_type": "code",
   "execution_count": 56,
   "metadata": {},
   "outputs": [
    {
     "data": {
      "text/plain": [
       "array([1831,  292, 2255, 2822, 5999, 7102, 1696,  330, 4550,  330, 1447,\n",
       "        493, 1447,  614,  292,  437, 7102, 7102,  133, 4068, 4136, 1831,\n",
       "       7102, 4037, 2255,   61, 1831,  269,  292,  292,  299,  614, 1580,\n",
       "       2255,  177, 1831, 6041, 5934,  518,  774, 3158, 2822,  437, 4550,\n",
       "       7102, 2374, 2203, 3148,  177, 3158, 6041,  774, 4136, 4136,  330,\n",
       "        133, 1696, 4683, 5999, 5999, 2822,  177, 1831,   61, 7102, 1831,\n",
       "       7102,  269,  221, 2203,  177, 5999, 1831,  292, 4683, 4037, 5464,\n",
       "        133,  269,  221, 1867, 6676, 1831, 4136, 2599, 1230, 7422,  133,\n",
       "        518, 1831, 3519, 1231,  437,  269,  269, 7102,  330, 4545, 1831,\n",
       "       4136,  202, 7102,  437,  614, 4136, 5464, 5934, 4136,  437,  202,\n",
       "        570, 4732, 5999, 1230, 1696, 5999, 4545, 6915,  177,  493, 1163,\n",
       "        202, 1867,  292, 1648, 6041, 1580, 3148, 1230, 7422, 1831,  437,\n",
       "        614,  570, 4136, 4683, 7102, 1831,  614,  292, 2255,  202, 1831,\n",
       "       5999,  518, 3148, 5999,  269, 3158, 3148, 7102, 1867, 6041,  518,\n",
       "       4545,  299, 1648, 5999, 4068, 4550,  177, 4383,  330, 2599, 2255,\n",
       "        774, 3519, 5934, 7102,  614, 2599, 1696, 1447, 1696, 4732, 7102,\n",
       "       1580, 4545, 1163,  269, 4005,  437, 7102,   61, 7102, 3148, 7422,\n",
       "        177, 4005, 2255, 7102,  177, 4136, 1831,  177, 2822,  221, 5934,\n",
       "       1580, 2822], dtype=int64)"
      ]
     },
     "execution_count": 56,
     "metadata": {},
     "output_type": "execute_result"
    }
   ],
   "source": [
    "y_pred"
   ]
  },
  {
   "cell_type": "code",
   "execution_count": 57,
   "metadata": {},
   "outputs": [],
   "source": [
    "df = pd.DataFrame() #initializes new dataframe"
   ]
  },
  {
   "cell_type": "code",
   "execution_count": 58,
   "metadata": {},
   "outputs": [],
   "source": [
    "#creates two new columns in dataframe\n",
    "df['y'] = y_test \n",
    "df['real y'] = y_pred"
   ]
  },
  {
   "cell_type": "code",
   "execution_count": 59,
   "metadata": {},
   "outputs": [
    {
     "data": {
      "text/html": [
       "<div>\n",
       "<style scoped>\n",
       "    .dataframe tbody tr th:only-of-type {\n",
       "        vertical-align: middle;\n",
       "    }\n",
       "\n",
       "    .dataframe tbody tr th {\n",
       "        vertical-align: top;\n",
       "    }\n",
       "\n",
       "    .dataframe thead th {\n",
       "        text-align: right;\n",
       "    }\n",
       "</style>\n",
       "<table border=\"1\" class=\"dataframe\">\n",
       "  <thead>\n",
       "    <tr style=\"text-align: right;\">\n",
       "      <th></th>\n",
       "      <th>y</th>\n",
       "      <th>real y</th>\n",
       "    </tr>\n",
       "  </thead>\n",
       "  <tbody>\n",
       "    <tr>\n",
       "      <th>26</th>\n",
       "      <td>4435</td>\n",
       "      <td>1831</td>\n",
       "    </tr>\n",
       "    <tr>\n",
       "      <th>19</th>\n",
       "      <td>3881</td>\n",
       "      <td>292</td>\n",
       "    </tr>\n",
       "    <tr>\n",
       "      <th>27</th>\n",
       "      <td>4779</td>\n",
       "      <td>2255</td>\n",
       "    </tr>\n",
       "    <tr>\n",
       "      <th>15</th>\n",
       "      <td>2822</td>\n",
       "      <td>2822</td>\n",
       "    </tr>\n",
       "    <tr>\n",
       "      <th>50</th>\n",
       "      <td>546</td>\n",
       "      <td>5999</td>\n",
       "    </tr>\n",
       "    <tr>\n",
       "      <th>75</th>\n",
       "      <td>6500</td>\n",
       "      <td>7102</td>\n",
       "    </tr>\n",
       "    <tr>\n",
       "      <th>79</th>\n",
       "      <td>753</td>\n",
       "      <td>1696</td>\n",
       "    </tr>\n",
       "    <tr>\n",
       "      <th>23</th>\n",
       "      <td>330</td>\n",
       "      <td>330</td>\n",
       "    </tr>\n",
       "    <tr>\n",
       "      <th>25</th>\n",
       "      <td>4550</td>\n",
       "      <td>4550</td>\n",
       "    </tr>\n",
       "    <tr>\n",
       "      <th>23</th>\n",
       "      <td>330</td>\n",
       "      <td>330</td>\n",
       "    </tr>\n",
       "    <tr>\n",
       "      <th>88</th>\n",
       "      <td>1447</td>\n",
       "      <td>1447</td>\n",
       "    </tr>\n",
       "    <tr>\n",
       "      <th>51</th>\n",
       "      <td>493</td>\n",
       "      <td>493</td>\n",
       "    </tr>\n",
       "    <tr>\n",
       "      <th>88</th>\n",
       "      <td>1447</td>\n",
       "      <td>1447</td>\n",
       "    </tr>\n",
       "    <tr>\n",
       "      <th>37</th>\n",
       "      <td>614</td>\n",
       "      <td>614</td>\n",
       "    </tr>\n",
       "    <tr>\n",
       "      <th>24</th>\n",
       "      <td>2209</td>\n",
       "      <td>292</td>\n",
       "    </tr>\n",
       "    <tr>\n",
       "      <th>70</th>\n",
       "      <td>437</td>\n",
       "      <td>437</td>\n",
       "    </tr>\n",
       "    <tr>\n",
       "      <th>67</th>\n",
       "      <td>7102</td>\n",
       "      <td>7102</td>\n",
       "    </tr>\n",
       "    <tr>\n",
       "      <th>75</th>\n",
       "      <td>6500</td>\n",
       "      <td>7102</td>\n",
       "    </tr>\n",
       "    <tr>\n",
       "      <th>91</th>\n",
       "      <td>133</td>\n",
       "      <td>133</td>\n",
       "    </tr>\n",
       "    <tr>\n",
       "      <th>33</th>\n",
       "      <td>4068</td>\n",
       "      <td>4068</td>\n",
       "    </tr>\n",
       "    <tr>\n",
       "      <th>55</th>\n",
       "      <td>3608</td>\n",
       "      <td>4136</td>\n",
       "    </tr>\n",
       "    <tr>\n",
       "      <th>35</th>\n",
       "      <td>4033</td>\n",
       "      <td>1831</td>\n",
       "    </tr>\n",
       "    <tr>\n",
       "      <th>73</th>\n",
       "      <td>4921</td>\n",
       "      <td>7102</td>\n",
       "    </tr>\n",
       "    <tr>\n",
       "      <th>20</th>\n",
       "      <td>4037</td>\n",
       "      <td>4037</td>\n",
       "    </tr>\n",
       "    <tr>\n",
       "      <th>29</th>\n",
       "      <td>2255</td>\n",
       "      <td>2255</td>\n",
       "    </tr>\n",
       "    <tr>\n",
       "      <th>2</th>\n",
       "      <td>25</td>\n",
       "      <td>61</td>\n",
       "    </tr>\n",
       "    <tr>\n",
       "      <th>47</th>\n",
       "      <td>4421</td>\n",
       "      <td>1831</td>\n",
       "    </tr>\n",
       "    <tr>\n",
       "      <th>42</th>\n",
       "      <td>705</td>\n",
       "      <td>269</td>\n",
       "    </tr>\n",
       "    <tr>\n",
       "      <th>22</th>\n",
       "      <td>292</td>\n",
       "      <td>292</td>\n",
       "    </tr>\n",
       "    <tr>\n",
       "      <th>24</th>\n",
       "      <td>2209</td>\n",
       "      <td>292</td>\n",
       "    </tr>\n",
       "    <tr>\n",
       "      <th>...</th>\n",
       "      <td>...</td>\n",
       "      <td>...</td>\n",
       "    </tr>\n",
       "    <tr>\n",
       "      <th>78</th>\n",
       "      <td>651</td>\n",
       "      <td>177</td>\n",
       "    </tr>\n",
       "    <tr>\n",
       "      <th>46</th>\n",
       "      <td>5999</td>\n",
       "      <td>5999</td>\n",
       "    </tr>\n",
       "    <tr>\n",
       "      <th>35</th>\n",
       "      <td>4033</td>\n",
       "      <td>1831</td>\n",
       "    </tr>\n",
       "    <tr>\n",
       "      <th>22</th>\n",
       "      <td>292</td>\n",
       "      <td>292</td>\n",
       "    </tr>\n",
       "    <tr>\n",
       "      <th>34</th>\n",
       "      <td>4683</td>\n",
       "      <td>4683</td>\n",
       "    </tr>\n",
       "    <tr>\n",
       "      <th>20</th>\n",
       "      <td>4037</td>\n",
       "      <td>4037</td>\n",
       "    </tr>\n",
       "    <tr>\n",
       "      <th>0</th>\n",
       "      <td>5464</td>\n",
       "      <td>5464</td>\n",
       "    </tr>\n",
       "    <tr>\n",
       "      <th>91</th>\n",
       "      <td>133</td>\n",
       "      <td>133</td>\n",
       "    </tr>\n",
       "    <tr>\n",
       "      <th>42</th>\n",
       "      <td>705</td>\n",
       "      <td>269</td>\n",
       "    </tr>\n",
       "    <tr>\n",
       "      <th>62</th>\n",
       "      <td>3721</td>\n",
       "      <td>221</td>\n",
       "    </tr>\n",
       "    <tr>\n",
       "      <th>61</th>\n",
       "      <td>1867</td>\n",
       "      <td>1867</td>\n",
       "    </tr>\n",
       "    <tr>\n",
       "      <th>54</th>\n",
       "      <td>6676</td>\n",
       "      <td>6676</td>\n",
       "    </tr>\n",
       "    <tr>\n",
       "      <th>28</th>\n",
       "      <td>1831</td>\n",
       "      <td>1831</td>\n",
       "    </tr>\n",
       "    <tr>\n",
       "      <th>41</th>\n",
       "      <td>4136</td>\n",
       "      <td>4136</td>\n",
       "    </tr>\n",
       "    <tr>\n",
       "      <th>89</th>\n",
       "      <td>2599</td>\n",
       "      <td>2599</td>\n",
       "    </tr>\n",
       "    <tr>\n",
       "      <th>7</th>\n",
       "      <td>1230</td>\n",
       "      <td>1230</td>\n",
       "    </tr>\n",
       "    <tr>\n",
       "      <th>83</th>\n",
       "      <td>5376</td>\n",
       "      <td>7422</td>\n",
       "    </tr>\n",
       "    <tr>\n",
       "      <th>91</th>\n",
       "      <td>133</td>\n",
       "      <td>133</td>\n",
       "    </tr>\n",
       "    <tr>\n",
       "      <th>86</th>\n",
       "      <td>36</td>\n",
       "      <td>518</td>\n",
       "    </tr>\n",
       "    <tr>\n",
       "      <th>35</th>\n",
       "      <td>4033</td>\n",
       "      <td>1831</td>\n",
       "    </tr>\n",
       "    <tr>\n",
       "      <th>13</th>\n",
       "      <td>3519</td>\n",
       "      <td>3519</td>\n",
       "    </tr>\n",
       "    <tr>\n",
       "      <th>84</th>\n",
       "      <td>3066</td>\n",
       "      <td>1231</td>\n",
       "    </tr>\n",
       "    <tr>\n",
       "      <th>70</th>\n",
       "      <td>437</td>\n",
       "      <td>437</td>\n",
       "    </tr>\n",
       "    <tr>\n",
       "      <th>52</th>\n",
       "      <td>995</td>\n",
       "      <td>269</td>\n",
       "    </tr>\n",
       "    <tr>\n",
       "      <th>36</th>\n",
       "      <td>6314</td>\n",
       "      <td>269</td>\n",
       "    </tr>\n",
       "    <tr>\n",
       "      <th>76</th>\n",
       "      <td>3575</td>\n",
       "      <td>7102</td>\n",
       "    </tr>\n",
       "    <tr>\n",
       "      <th>23</th>\n",
       "      <td>330</td>\n",
       "      <td>330</td>\n",
       "    </tr>\n",
       "    <tr>\n",
       "      <th>6</th>\n",
       "      <td>4340</td>\n",
       "      <td>4545</td>\n",
       "    </tr>\n",
       "    <tr>\n",
       "      <th>26</th>\n",
       "      <td>4435</td>\n",
       "      <td>1831</td>\n",
       "    </tr>\n",
       "    <tr>\n",
       "      <th>38</th>\n",
       "      <td>3149</td>\n",
       "      <td>4136</td>\n",
       "    </tr>\n",
       "  </tbody>\n",
       "</table>\n",
       "<p>100 rows × 2 columns</p>\n",
       "</div>"
      ],
      "text/plain": [
       "       y  real y\n",
       "26  4435    1831\n",
       "19  3881     292\n",
       "27  4779    2255\n",
       "15  2822    2822\n",
       "50   546    5999\n",
       "75  6500    7102\n",
       "79   753    1696\n",
       "23   330     330\n",
       "25  4550    4550\n",
       "23   330     330\n",
       "88  1447    1447\n",
       "51   493     493\n",
       "88  1447    1447\n",
       "37   614     614\n",
       "24  2209     292\n",
       "70   437     437\n",
       "67  7102    7102\n",
       "75  6500    7102\n",
       "91   133     133\n",
       "33  4068    4068\n",
       "55  3608    4136\n",
       "35  4033    1831\n",
       "73  4921    7102\n",
       "20  4037    4037\n",
       "29  2255    2255\n",
       "2     25      61\n",
       "47  4421    1831\n",
       "42   705     269\n",
       "22   292     292\n",
       "24  2209     292\n",
       "..   ...     ...\n",
       "78   651     177\n",
       "46  5999    5999\n",
       "35  4033    1831\n",
       "22   292     292\n",
       "34  4683    4683\n",
       "20  4037    4037\n",
       "0   5464    5464\n",
       "91   133     133\n",
       "42   705     269\n",
       "62  3721     221\n",
       "61  1867    1867\n",
       "54  6676    6676\n",
       "28  1831    1831\n",
       "41  4136    4136\n",
       "89  2599    2599\n",
       "7   1230    1230\n",
       "83  5376    7422\n",
       "91   133     133\n",
       "86    36     518\n",
       "35  4033    1831\n",
       "13  3519    3519\n",
       "84  3066    1231\n",
       "70   437     437\n",
       "52   995     269\n",
       "36  6314     269\n",
       "76  3575    7102\n",
       "23   330     330\n",
       "6   4340    4545\n",
       "26  4435    1831\n",
       "38  3149    4136\n",
       "\n",
       "[100 rows x 2 columns]"
      ]
     },
     "execution_count": 59,
     "metadata": {},
     "output_type": "execute_result"
    }
   ],
   "source": [
    "df.head(100)"
   ]
  },
  {
   "cell_type": "code",
   "execution_count": 60,
   "metadata": {},
   "outputs": [
    {
     "data": {
      "text/plain": [
       "(array([ 275.,   83.,   80.,   56.,   94.,  134.,   89.,   63.,   80.,   46.]),\n",
       " array([   25. ,   764.7,  1504.4,  2244.1,  2983.8,  3723.5,  4463.2,\n",
       "         5202.9,  5942.6,  6682.3,  7422. ]),\n",
       " <a list of 10 Patch objects>)"
      ]
     },
     "execution_count": 60,
     "metadata": {},
     "output_type": "execute_result"
    },
    {
     "data": {
      "image/png": "[encoded data removed]",
      "text/plain": [
       "<matplotlib.figure.Figure at 0x1eab33d94a8>"
      ]
     },
     "metadata": {},
     "output_type": "display_data"
    }
   ],
   "source": [
    "#plots histogram of 'step_count' column\n",
    "plt.hist(fit_df['step_count'])"
   ]
  },
  {
   "cell_type": "code",
   "execution_count": null,
   "metadata": {},
   "outputs": [],
   "source": []
  }
 ],
 "metadata": {
  "kernelspec": {
   "display_name": "Python 3",
   "language": "python",
   "name": "python3"
  },
  "language_info": {
   "codemirror_mode": {
    "name": "ipython",
    "version": 3
   },
   "file_extension": ".py",
   "mimetype": "text/x-python",
   "name": "python",
   "nbconvert_exporter": "python",
   "pygments_lexer": "ipython3",
   "version": "3.6.3"
  }
 },
 "nbformat": 4,
 "nbformat_minor": 2
}
